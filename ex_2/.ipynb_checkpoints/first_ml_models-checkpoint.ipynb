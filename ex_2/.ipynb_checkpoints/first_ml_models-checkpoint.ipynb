{
 "cells": [
  {
   "cell_type": "markdown",
   "metadata": {},
   "source": [
    "I’ve Trained My First Machine Learning Models\n",
    "\n",
    "https://towardsdatascience.com/ive-trained-my-first-machine-learning-model-and-i-got-sad-8abdc0c5b72b"
   ]
  },
  {
   "cell_type": "code",
   "execution_count": 23,
   "metadata": {
    "execution": {
     "iopub.execute_input": "2022-03-30T22:11:16.377127Z",
     "iopub.status.busy": "2022-03-30T22:11:16.377127Z",
     "iopub.status.idle": "2022-03-30T22:11:16.400124Z",
     "shell.execute_reply": "2022-03-30T22:11:16.399127Z",
     "shell.execute_reply.started": "2022-03-30T22:11:16.377127Z"
    }
   },
   "outputs": [],
   "source": [
    "import pandas as pd\n",
    "import numpy as np\n",
    "import pandas_profiling\n",
    "import matplotlib.pyplot as plt\n",
    "%matplotlib inline\n",
    "import seaborn as sns\n",
    "from pandas_profiling import ProfileReport\n",
    "from sklearn.model_selection import train_test_split\n",
    "from sklearn.preprocessing import StandardScaler, MinMaxScaler\n",
    "from sklearn.neighbors import KNeighborsClassifier as KNN\n",
    "from sklearn.metrics import confusion_matrix, accuracy_score, precision_score, ConfusionMatrixDisplay, plot_confusion_matrix, recall_score\n",
    "\n",
    "\n",
    "diab = pd.read_csv('diabetes.csv')"
   ]
  },
  {
   "cell_type": "code",
   "execution_count": 2,
   "metadata": {
    "execution": {
     "iopub.execute_input": "2022-03-30T21:57:11.153818Z",
     "iopub.status.busy": "2022-03-30T21:57:11.152818Z",
     "iopub.status.idle": "2022-03-30T21:57:11.229818Z",
     "shell.execute_reply": "2022-03-30T21:57:11.228816Z",
     "shell.execute_reply.started": "2022-03-30T21:57:11.153818Z"
    }
   },
   "outputs": [
    {
     "data": {
      "text/html": [
       "<div>\n",
       "<style scoped>\n",
       "    .dataframe tbody tr th:only-of-type {\n",
       "        vertical-align: middle;\n",
       "    }\n",
       "\n",
       "    .dataframe tbody tr th {\n",
       "        vertical-align: top;\n",
       "    }\n",
       "\n",
       "    .dataframe thead th {\n",
       "        text-align: right;\n",
       "    }\n",
       "</style>\n",
       "<table border=\"1\" class=\"dataframe\">\n",
       "  <thead>\n",
       "    <tr style=\"text-align: right;\">\n",
       "      <th></th>\n",
       "      <th>Pregnancies</th>\n",
       "      <th>Glucose</th>\n",
       "      <th>BloodPressure</th>\n",
       "      <th>SkinThickness</th>\n",
       "      <th>Insulin</th>\n",
       "      <th>BMI</th>\n",
       "      <th>DiabetesPedigreeFunction</th>\n",
       "      <th>Age</th>\n",
       "      <th>Outcome</th>\n",
       "    </tr>\n",
       "  </thead>\n",
       "  <tbody>\n",
       "    <tr>\n",
       "      <th>0</th>\n",
       "      <td>6</td>\n",
       "      <td>148</td>\n",
       "      <td>72</td>\n",
       "      <td>35</td>\n",
       "      <td>0</td>\n",
       "      <td>33.6</td>\n",
       "      <td>0.627</td>\n",
       "      <td>50</td>\n",
       "      <td>1</td>\n",
       "    </tr>\n",
       "    <tr>\n",
       "      <th>1</th>\n",
       "      <td>1</td>\n",
       "      <td>85</td>\n",
       "      <td>66</td>\n",
       "      <td>29</td>\n",
       "      <td>0</td>\n",
       "      <td>26.6</td>\n",
       "      <td>0.351</td>\n",
       "      <td>31</td>\n",
       "      <td>0</td>\n",
       "    </tr>\n",
       "    <tr>\n",
       "      <th>2</th>\n",
       "      <td>8</td>\n",
       "      <td>183</td>\n",
       "      <td>64</td>\n",
       "      <td>0</td>\n",
       "      <td>0</td>\n",
       "      <td>23.3</td>\n",
       "      <td>0.672</td>\n",
       "      <td>32</td>\n",
       "      <td>1</td>\n",
       "    </tr>\n",
       "    <tr>\n",
       "      <th>3</th>\n",
       "      <td>1</td>\n",
       "      <td>89</td>\n",
       "      <td>66</td>\n",
       "      <td>23</td>\n",
       "      <td>94</td>\n",
       "      <td>28.1</td>\n",
       "      <td>0.167</td>\n",
       "      <td>21</td>\n",
       "      <td>0</td>\n",
       "    </tr>\n",
       "    <tr>\n",
       "      <th>4</th>\n",
       "      <td>0</td>\n",
       "      <td>137</td>\n",
       "      <td>40</td>\n",
       "      <td>35</td>\n",
       "      <td>168</td>\n",
       "      <td>43.1</td>\n",
       "      <td>2.288</td>\n",
       "      <td>33</td>\n",
       "      <td>1</td>\n",
       "    </tr>\n",
       "    <tr>\n",
       "      <th>...</th>\n",
       "      <td>...</td>\n",
       "      <td>...</td>\n",
       "      <td>...</td>\n",
       "      <td>...</td>\n",
       "      <td>...</td>\n",
       "      <td>...</td>\n",
       "      <td>...</td>\n",
       "      <td>...</td>\n",
       "      <td>...</td>\n",
       "    </tr>\n",
       "    <tr>\n",
       "      <th>763</th>\n",
       "      <td>10</td>\n",
       "      <td>101</td>\n",
       "      <td>76</td>\n",
       "      <td>48</td>\n",
       "      <td>180</td>\n",
       "      <td>32.9</td>\n",
       "      <td>0.171</td>\n",
       "      <td>63</td>\n",
       "      <td>0</td>\n",
       "    </tr>\n",
       "    <tr>\n",
       "      <th>764</th>\n",
       "      <td>2</td>\n",
       "      <td>122</td>\n",
       "      <td>70</td>\n",
       "      <td>27</td>\n",
       "      <td>0</td>\n",
       "      <td>36.8</td>\n",
       "      <td>0.340</td>\n",
       "      <td>27</td>\n",
       "      <td>0</td>\n",
       "    </tr>\n",
       "    <tr>\n",
       "      <th>765</th>\n",
       "      <td>5</td>\n",
       "      <td>121</td>\n",
       "      <td>72</td>\n",
       "      <td>23</td>\n",
       "      <td>112</td>\n",
       "      <td>26.2</td>\n",
       "      <td>0.245</td>\n",
       "      <td>30</td>\n",
       "      <td>0</td>\n",
       "    </tr>\n",
       "    <tr>\n",
       "      <th>766</th>\n",
       "      <td>1</td>\n",
       "      <td>126</td>\n",
       "      <td>60</td>\n",
       "      <td>0</td>\n",
       "      <td>0</td>\n",
       "      <td>30.1</td>\n",
       "      <td>0.349</td>\n",
       "      <td>47</td>\n",
       "      <td>1</td>\n",
       "    </tr>\n",
       "    <tr>\n",
       "      <th>767</th>\n",
       "      <td>1</td>\n",
       "      <td>93</td>\n",
       "      <td>70</td>\n",
       "      <td>31</td>\n",
       "      <td>0</td>\n",
       "      <td>30.4</td>\n",
       "      <td>0.315</td>\n",
       "      <td>23</td>\n",
       "      <td>0</td>\n",
       "    </tr>\n",
       "  </tbody>\n",
       "</table>\n",
       "<p>768 rows × 9 columns</p>\n",
       "</div>"
      ],
      "text/plain": [
       "     Pregnancies  Glucose  BloodPressure  SkinThickness  Insulin   BMI  \\\n",
       "0              6      148             72             35        0  33.6   \n",
       "1              1       85             66             29        0  26.6   \n",
       "2              8      183             64              0        0  23.3   \n",
       "3              1       89             66             23       94  28.1   \n",
       "4              0      137             40             35      168  43.1   \n",
       "..           ...      ...            ...            ...      ...   ...   \n",
       "763           10      101             76             48      180  32.9   \n",
       "764            2      122             70             27        0  36.8   \n",
       "765            5      121             72             23      112  26.2   \n",
       "766            1      126             60              0        0  30.1   \n",
       "767            1       93             70             31        0  30.4   \n",
       "\n",
       "     DiabetesPedigreeFunction  Age  Outcome  \n",
       "0                       0.627   50        1  \n",
       "1                       0.351   31        0  \n",
       "2                       0.672   32        1  \n",
       "3                       0.167   21        0  \n",
       "4                       2.288   33        1  \n",
       "..                        ...  ...      ...  \n",
       "763                     0.171   63        0  \n",
       "764                     0.340   27        0  \n",
       "765                     0.245   30        0  \n",
       "766                     0.349   47        1  \n",
       "767                     0.315   23        0  \n",
       "\n",
       "[768 rows x 9 columns]"
      ]
     },
     "execution_count": 2,
     "metadata": {},
     "output_type": "execute_result"
    }
   ],
   "source": [
    "diab"
   ]
  },
  {
   "cell_type": "code",
   "execution_count": 3,
   "metadata": {
    "execution": {
     "iopub.execute_input": "2022-03-30T21:28:53.407981Z",
     "iopub.status.busy": "2022-03-30T21:28:53.407981Z",
     "iopub.status.idle": "2022-03-30T21:29:23.863152Z",
     "shell.execute_reply": "2022-03-30T21:29:23.862150Z",
     "shell.execute_reply.started": "2022-03-30T21:28:53.407981Z"
    }
   },
   "outputs": [
    {
     "data": {
      "application/vnd.jupyter.widget-view+json": {
       "model_id": "8bd6a798828845c6bc17ee71bf1e355d",
       "version_major": 2,
       "version_minor": 0
      },
      "text/plain": [
       "Summarize dataset:   0%|          | 0/5 [00:00<?, ?it/s]"
      ]
     },
     "metadata": {},
     "output_type": "display_data"
    },
    {
     "data": {
      "application/vnd.jupyter.widget-view+json": {
       "model_id": "14d8b1b4ab6447d1a8031fdef9c09d69",
       "version_major": 2,
       "version_minor": 0
      },
      "text/plain": [
       "Generate report structure:   0%|          | 0/1 [00:00<?, ?it/s]"
      ]
     },
     "metadata": {},
     "output_type": "display_data"
    },
    {
     "data": {
      "application/vnd.jupyter.widget-view+json": {
       "model_id": "99a4589a53a14daaa94e9151facbcd97",
       "version_major": 2,
       "version_minor": 0
      },
      "text/plain": [
       "Render HTML:   0%|          | 0/1 [00:00<?, ?it/s]"
      ]
     },
     "metadata": {},
     "output_type": "display_data"
    },
    {
     "data": {
      "application/vnd.jupyter.widget-view+json": {
       "model_id": "c4775ec706894ecfa9bee07a83d8d4aa",
       "version_major": 2,
       "version_minor": 0
      },
      "text/plain": [
       "Export report to file:   0%|          | 0/1 [00:00<?, ?it/s]"
      ]
     },
     "metadata": {},
     "output_type": "display_data"
    }
   ],
   "source": [
    "# profiling data\n",
    "profile = ProfileReport(diab, explorative=True, dark_mode=True)\n",
    "\n",
    "#output to HTML\n",
    "profile.to_file('output.html')"
   ]
  },
  {
   "cell_type": "code",
   "execution_count": 2,
   "metadata": {
    "execution": {
     "iopub.execute_input": "2022-03-30T22:00:44.561535Z",
     "iopub.status.busy": "2022-03-30T22:00:44.560536Z",
     "iopub.status.idle": "2022-03-30T22:00:44.599537Z",
     "shell.execute_reply": "2022-03-30T22:00:44.595538Z",
     "shell.execute_reply.started": "2022-03-30T22:00:44.561535Z"
    }
   },
   "outputs": [
    {
     "data": {
      "text/plain": [
       "(768, 9)"
      ]
     },
     "execution_count": 2,
     "metadata": {},
     "output_type": "execute_result"
    }
   ],
   "source": [
    "diab.shape"
   ]
  },
  {
   "cell_type": "code",
   "execution_count": 3,
   "metadata": {
    "execution": {
     "iopub.execute_input": "2022-03-30T22:00:44.607543Z",
     "iopub.status.busy": "2022-03-30T22:00:44.606540Z",
     "iopub.status.idle": "2022-03-30T22:00:44.692552Z",
     "shell.execute_reply": "2022-03-30T22:00:44.690542Z",
     "shell.execute_reply.started": "2022-03-30T22:00:44.607543Z"
    }
   },
   "outputs": [
    {
     "data": {
      "text/plain": [
       "35"
      ]
     },
     "execution_count": 3,
     "metadata": {},
     "output_type": "execute_result"
    }
   ],
   "source": [
    "(diab.BloodPressure == 0).sum()"
   ]
  },
  {
   "cell_type": "markdown",
   "metadata": {},
   "source": [
    "35/768 in the blood pressure are 0"
   ]
  },
  {
   "cell_type": "code",
   "execution_count": 4,
   "metadata": {
    "execution": {
     "iopub.execute_input": "2022-03-30T22:00:44.696538Z",
     "iopub.status.busy": "2022-03-30T22:00:44.695540Z",
     "iopub.status.idle": "2022-03-30T22:00:44.724560Z",
     "shell.execute_reply": "2022-03-30T22:00:44.722540Z",
     "shell.execute_reply.started": "2022-03-30T22:00:44.696538Z"
    }
   },
   "outputs": [
    {
     "name": "stdout",
     "output_type": "stream",
     "text": [
      "Pregnancies: 111\n",
      "Glucose: 5\n",
      "BloodPressure: 35\n",
      "SkinThickness: 227\n",
      "Insulin: 374\n",
      "BMI: 11\n",
      "DiabetesPedigreeFunction: 0\n",
      "Age: 0\n",
      "Outcome: 500\n"
     ]
    }
   ],
   "source": [
    "all_cols = [col for col in diab]\n",
    "\n",
    "for col in all_cols:\n",
    "    print(f'{col}: {(diab[col] == 0).sum()}')"
   ]
  },
  {
   "cell_type": "code",
   "execution_count": 5,
   "metadata": {
    "execution": {
     "iopub.execute_input": "2022-03-30T22:00:44.728539Z",
     "iopub.status.busy": "2022-03-30T22:00:44.727540Z",
     "iopub.status.idle": "2022-03-30T22:00:44.800539Z",
     "shell.execute_reply": "2022-03-30T22:00:44.798543Z",
     "shell.execute_reply.started": "2022-03-30T22:00:44.728539Z"
    }
   },
   "outputs": [],
   "source": [
    "cols = ['Glucose', 'BloodPressure', 'SkinThickness', 'Insulin', 'BMI']\n",
    "for col in cols:\n",
    "    # first change all the 0's to NaN so they don't figure into the mean\n",
    "    diab[col] = diab[col].replace(0, np.NaN)\n",
    "    \n",
    "    # not sure why it's being converted to an integer first. commentint that out\n",
    "#     mean = int(diab[col].mean(skipna=True))\n",
    "    mean = diab[col].mean(skipna=True)\n",
    "    diab[col] = diab[col].replace(np.NaN, mean)\n",
    "#     print(diab[col])\n",
    "    "
   ]
  },
  {
   "cell_type": "markdown",
   "metadata": {},
   "source": [
    "## Train model"
   ]
  },
  {
   "cell_type": "code",
   "execution_count": 6,
   "metadata": {
    "execution": {
     "iopub.execute_input": "2022-03-30T22:00:44.807539Z",
     "iopub.status.busy": "2022-03-30T22:00:44.804543Z",
     "iopub.status.idle": "2022-03-30T22:00:44.886540Z",
     "shell.execute_reply": "2022-03-30T22:00:44.877540Z",
     "shell.execute_reply.started": "2022-03-30T22:00:44.807539Z"
    }
   },
   "outputs": [],
   "source": [
    "# isolate features\n",
    "X = diab.iloc[:,0:8]\n",
    "\n",
    "# target\n",
    "y = diab.iloc[:,8]\n",
    "\n",
    "scaler=MinMaxScaler()\n",
    "X = scaler.fit_transform(X)\n",
    "\n",
    "X_train, X_test, y_train, y_test = train_test_split(X, y, test_size=0.2, random_state=0, stratify=y)"
   ]
  },
  {
   "cell_type": "markdown",
   "metadata": {},
   "source": [
    "(From stack overflow)\n",
    "\n",
    "This `stratify` parameter makes a split so that the proportion of values in the sample produced will be the same as the proportion of values provided to parameter `stratify`.\n",
    "\n",
    "For example, if variable `y` is a binary categorical variable with values `0` and `1` and there are 25% of zeros and 75% of ones, `stratify=y` will make sure that your random split has 25% of `0`'s and 75% of `1`'s.\n"
   ]
  },
  {
   "cell_type": "code",
   "execution_count": 7,
   "metadata": {
    "execution": {
     "iopub.execute_input": "2022-03-30T22:00:44.906541Z",
     "iopub.status.busy": "2022-03-30T22:00:44.900544Z",
     "iopub.status.idle": "2022-03-30T22:00:44.993386Z",
     "shell.execute_reply": "2022-03-30T22:00:44.989377Z",
     "shell.execute_reply.started": "2022-03-30T22:00:44.906541Z"
    }
   },
   "outputs": [
    {
     "name": "stdout",
     "output_type": "stream",
     "text": [
      "Model accuracy on test set: 0.7403\n"
     ]
    }
   ],
   "source": [
    "model = KNN(n_neighbors=5).fit(X_train, y_train)\n",
    "\n",
    "y_pred = model.predict(X_test)\n",
    "\n",
    "print(f'Model accuracy on test set: {accuracy_score(y_test, y_pred):.4f}')"
   ]
  },
  {
   "cell_type": "markdown",
   "metadata": {},
   "source": [
    "Best K\n"
   ]
  },
  {
   "cell_type": "code",
   "execution_count": 8,
   "metadata": {
    "execution": {
     "iopub.execute_input": "2022-03-30T22:00:45.000379Z",
     "iopub.status.busy": "2022-03-30T22:00:44.996376Z",
     "iopub.status.idle": "2022-03-30T22:00:45.165404Z",
     "shell.execute_reply": "2022-03-30T22:00:45.164396Z",
     "shell.execute_reply.started": "2022-03-30T22:00:45.000379Z"
    }
   },
   "outputs": [
    {
     "name": "stdout",
     "output_type": "stream",
     "text": [
      "Validation accuracy with 1: 0.7078\n",
      "Validation accuracy with 2: 0.7208\n",
      "Validation accuracy with 3: 0.7532\n",
      "Validation accuracy with 5: 0.7403\n",
      "Validation accuracy with 10: 0.7792\n"
     ]
    }
   ],
   "source": [
    "for k in [1, 2, 3, 5, 10]:\n",
    "    model = KNN(n_neighbors=k)\n",
    "    model.fit(X_train, y_train)\n",
    "    predictions = model.predict(X_test)\n",
    "    validation_accuracy = accuracy_score(y_test, predictions)\n",
    "    print(f'Validation accuracy with {k}: {validation_accuracy:.4f}')"
   ]
  },
  {
   "cell_type": "code",
   "execution_count": 9,
   "metadata": {
    "execution": {
     "iopub.execute_input": "2022-03-30T22:00:45.171397Z",
     "iopub.status.busy": "2022-03-30T22:00:45.170397Z",
     "iopub.status.idle": "2022-03-30T22:00:45.552933Z",
     "shell.execute_reply": "2022-03-30T22:00:45.551932Z",
     "shell.execute_reply.started": "2022-03-30T22:00:45.171397Z"
    }
   },
   "outputs": [
    {
     "name": "stdout",
     "output_type": "stream",
     "text": [
      "Validation accuracy with 1: 0.7078\n",
      "Validation accuracy with 2: 0.7208\n",
      "Validation accuracy with 3: 0.7532\n",
      "Validation accuracy with 4: 0.7792\n",
      "Validation accuracy with 5: 0.7403\n",
      "Validation accuracy with 6: 0.7597\n",
      "Validation accuracy with 7: 0.7662\n",
      "Validation accuracy with 8: 0.7532\n",
      "Validation accuracy with 9: 0.7857\n",
      "Validation accuracy with 10: 0.7792\n",
      "Validation accuracy with 11: 0.7792\n",
      "Validation accuracy with 12: 0.7597\n",
      "Validation accuracy with 13: 0.7662\n",
      "Validation accuracy with 14: 0.7727\n",
      "Validation accuracy with 15: 0.7597\n",
      "Validation accuracy with 16: 0.7468\n",
      "Validation accuracy with 17: 0.7532\n",
      "Validation accuracy with 18: 0.7662\n",
      "Validation accuracy with 19: 0.7727\n"
     ]
    }
   ],
   "source": [
    "for k in list(range(1,20)):\n",
    "    model = KNN(n_neighbors=k)\n",
    "    model.fit(X_train, y_train)\n",
    "    predictions = model.predict(X_test)\n",
    "    validation_accuracy = accuracy_score(y_test, predictions)\n",
    "    print(f'Validation accuracy with {k}: {validation_accuracy:.4f}')"
   ]
  },
  {
   "cell_type": "markdown",
   "metadata": {},
   "source": [
    "The author says the higher K goes, the more \"instability\" and the results don't change much. He's going with 10, but 9 is a little higher"
   ]
  },
  {
   "cell_type": "markdown",
   "metadata": {},
   "source": [
    "Training model on best k"
   ]
  },
  {
   "cell_type": "code",
   "execution_count": 10,
   "metadata": {
    "execution": {
     "iopub.execute_input": "2022-03-30T22:00:45.554936Z",
     "iopub.status.busy": "2022-03-30T22:00:45.554936Z",
     "iopub.status.idle": "2022-03-30T22:00:45.600939Z",
     "shell.execute_reply": "2022-03-30T22:00:45.598938Z",
     "shell.execute_reply.started": "2022-03-30T22:00:45.554936Z"
    }
   },
   "outputs": [],
   "source": [
    "model = KNN(n_neighbors=9).fit(X_train, y_train)\n",
    "\n",
    "# predictions and model accuracy\n",
    "y_pred = model.predict(X_test)"
   ]
  },
  {
   "cell_type": "code",
   "execution_count": 11,
   "metadata": {
    "execution": {
     "iopub.execute_input": "2022-03-30T22:00:45.604935Z",
     "iopub.status.busy": "2022-03-30T22:00:45.603936Z",
     "iopub.status.idle": "2022-03-30T22:00:45.632151Z",
     "shell.execute_reply": "2022-03-30T22:00:45.630152Z",
     "shell.execute_reply.started": "2022-03-30T22:00:45.604935Z"
    }
   },
   "outputs": [
    {
     "data": {
      "text/plain": [
       "array([[88, 12],\n",
       "       [21, 33]], dtype=int64)"
      ]
     },
     "execution_count": 11,
     "metadata": {},
     "output_type": "execute_result"
    }
   ],
   "source": [
    "cm = confusion_matrix(y_test, y_pred)\n",
    "cm"
   ]
  },
  {
   "cell_type": "code",
   "execution_count": 17,
   "metadata": {
    "execution": {
     "iopub.execute_input": "2022-03-30T22:02:28.943376Z",
     "iopub.status.busy": "2022-03-30T22:02:28.942377Z",
     "iopub.status.idle": "2022-03-30T22:02:29.274274Z",
     "shell.execute_reply": "2022-03-30T22:02:29.274274Z",
     "shell.execute_reply.started": "2022-03-30T22:02:28.943376Z"
    }
   },
   "outputs": [
    {
     "data": {
      "image/png": "[encoded data removed]",
      "text/plain": [
       "<Figure size 432x288 with 2 Axes>"
      ]
     },
     "metadata": {
      "needs_background": "light"
     },
     "output_type": "display_data"
    }
   ],
   "source": [
    "disp = ConfusionMatrixDisplay(confusion_matrix=cm)\n",
    "disp.plot()\n",
    "plt.show()"
   ]
  },
  {
   "cell_type": "code",
   "execution_count": 14,
   "metadata": {
    "execution": {
     "iopub.execute_input": "2022-03-30T22:00:45.914913Z",
     "iopub.status.busy": "2022-03-30T22:00:45.913914Z",
     "iopub.status.idle": "2022-03-30T22:00:45.943955Z",
     "shell.execute_reply": "2022-03-30T22:00:45.940939Z",
     "shell.execute_reply.started": "2022-03-30T22:00:45.914913Z"
    }
   },
   "outputs": [
    {
     "name": "stdout",
     "output_type": "stream",
     "text": [
      " 0.73\n"
     ]
    }
   ],
   "source": [
    "precision = precision_score(y_test, y_pred)\n",
    "print(f'{precision: .2f}')"
   ]
  },
  {
   "cell_type": "markdown",
   "metadata": {},
   "source": [
    "Remember: Precision = TP / (TP + FP). But I think I would use recall, as recall is better if the cost of a false negative is high. Here, if we're predicting diabetes, you don't want people to think they don't have diabetes when they do."
   ]
  },
  {
   "cell_type": "code",
   "execution_count": 20,
   "metadata": {
    "execution": {
     "iopub.execute_input": "2022-03-30T22:08:20.873319Z",
     "iopub.status.busy": "2022-03-30T22:08:20.872316Z",
     "iopub.status.idle": "2022-03-30T22:08:20.883316Z",
     "shell.execute_reply": "2022-03-30T22:08:20.881317Z",
     "shell.execute_reply.started": "2022-03-30T22:08:20.873319Z"
    }
   },
   "outputs": [
    {
     "name": "stdout",
     "output_type": "stream",
     "text": [
      " 0.61\n"
     ]
    }
   ],
   "source": [
    "recall = recall_score(y_test, y_pred)\n",
    "print(f'{recall: .2f}')"
   ]
  },
  {
   "cell_type": "markdown",
   "metadata": {},
   "source": [
    "So maybe not a great model."
   ]
  },
  {
   "cell_type": "code",
   "execution_count": 22,
   "metadata": {
    "execution": {
     "iopub.execute_input": "2022-03-30T22:09:45.770084Z",
     "iopub.status.busy": "2022-03-30T22:09:45.770084Z",
     "iopub.status.idle": "2022-03-30T22:09:46.019721Z",
     "shell.execute_reply": "2022-03-30T22:09:46.017720Z",
     "shell.execute_reply.started": "2022-03-30T22:09:45.770084Z"
    }
   },
   "outputs": [
    {
     "name": "stdout",
     "output_type": "stream",
     "text": [
      "Validation recall with 1: 0.5741\n",
      "Validation recall with 2: 0.3704\n",
      "Validation recall with 3: 0.6481\n",
      "Validation recall with 4: 0.5556\n",
      "Validation recall with 5: 0.5926\n",
      "Validation recall with 6: 0.5000\n",
      "Validation recall with 7: 0.6111\n",
      "Validation recall with 8: 0.5000\n",
      "Validation recall with 9: 0.6111\n",
      "Validation recall with 10: 0.5741\n",
      "Validation recall with 11: 0.6296\n",
      "Validation recall with 12: 0.5185\n",
      "Validation recall with 13: 0.5926\n",
      "Validation recall with 14: 0.5556\n",
      "Validation recall with 15: 0.5926\n",
      "Validation recall with 16: 0.5370\n",
      "Validation recall with 17: 0.5741\n",
      "Validation recall with 18: 0.5370\n",
      "Validation recall with 19: 0.5926\n"
     ]
    }
   ],
   "source": [
    "for k in list(range(1,20)):\n",
    "    model = KNN(n_neighbors=k)\n",
    "    model.fit(X_train, y_train)\n",
    "    predictions = model.predict(X_test)\n",
    "    validation_accuracy = recall_score(y_test, predictions)\n",
    "    print(f'Validation recall with {k}: {validation_accuracy:.4f}')"
   ]
  },
  {
   "cell_type": "markdown",
   "metadata": {},
   "source": [
    "Actually, k = 9 is still one of the best, but maybe the KNN isn't a great model for this"
   ]
  },
  {
   "cell_type": "markdown",
   "metadata": {},
   "source": [
    "Picking back up from the blog post"
   ]
  },
  {
   "cell_type": "code",
   "execution_count": 24,
   "metadata": {
    "execution": {
     "iopub.execute_input": "2022-03-30T22:12:26.002501Z",
     "iopub.status.busy": "2022-03-30T22:12:26.002501Z",
     "iopub.status.idle": "2022-03-30T22:12:26.348371Z",
     "shell.execute_reply": "2022-03-30T22:12:26.346368Z",
     "shell.execute_reply.started": "2022-03-30T22:12:26.002501Z"
    }
   },
   "outputs": [
    {
     "data": {
      "image/png": "[encoded data removed]",
      "text/plain": [
       "<Figure size 720x720 with 1 Axes>"
      ]
     },
     "metadata": {
      "needs_background": "light"
     },
     "output_type": "display_data"
    }
   ],
   "source": [
    "plt.figure(figsize=(10,10))\n",
    "#diabetes outcome (Kernel Density Estimation)\n",
    "ax = sns.kdeplot(y, color=\"r\", label=\"Actual Value\") #y = diab['Outcome']\n",
    "#predictions (Kernel Densiti Estimation), in the same plot (ax=ax)\n",
    "sns.kdeplot(y_pred, color=\"b\", label=\"Predicted Values\", ax=ax)\n",
    "#labeling title\n",
    "plt.title('Actual vs Precited values')\n",
    "#showing legend\n",
    "plt.legend()\n",
    "#showing plot\n",
    "plt.show()"
   ]
  },
  {
   "cell_type": "code",
   "execution_count": null,
   "metadata": {},
   "outputs": [],
   "source": []
  }
 ],
 "metadata": {
  "kernelspec": {
   "display_name": "Python 3",
   "language": "python",
   "name": "python3"
  },
  "language_info": {
   "codemirror_mode": {
    "name": "ipython",
    "version": 3
   },
   "file_extension": ".py",
   "mimetype": "text/x-python",
   "name": "python",
   "nbconvert_exporter": "python",
   "pygments_lexer": "ipython3",
   "version": "3.6.9"
  }
 },
 "nbformat": 4,
 "nbformat_minor": 4
}
